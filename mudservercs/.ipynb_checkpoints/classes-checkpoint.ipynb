{
 "cells": [
  {
   "cell_type": "code",
   "execution_count": 1,
   "metadata": {},
   "outputs": [],
   "source": [
    "import numpy as np"
   ]
  },
  {
   "cell_type": "code",
   "execution_count": 2,
   "metadata": {},
   "outputs": [],
   "source": [
    "class World():\n",
    "    \n",
    "    def __init__(self, size = 16, maxplayers = 4):\n",
    "        \n",
    "        self.size = size\n",
    "        self.maxplayers = maxplayers\n",
    "        self.players = [None] * maxplayers\n",
    "        self.playercount = 0\n",
    "        self.randomgrid = np.random.randint(127, size = (size, size), dtype = 'int8')\n",
    "        self.nsx = np.full((size + 1, size), -1, dtype = 'int8')\n",
    "        self.nsx[1:-1, :] = np.random.randint(8, size = (size - 1, size), dtype = 'int8')\n",
    "        self.ewx = np.full((size, size + 1), -1, dtype = 'int8')\n",
    "        self.ewx[:, 1:-1] = np.random.randint(8, size = (size, size - 1), dtype = 'int8')\n",
    "        self.monsters = ['Skeleton', 'Beholder', 'Imp', 'Fire Elemental']\n",
    "        self.rooms = [[Room(self, self.randomgrid[a, b]) for a in range(size)] for b in range(size)]\n",
    "    \n",
    "    def add_player(self, name):\n",
    "        \n",
    "        if self.playercount == self.maxplayers:\n",
    "            \n",
    "            return 'Game is full'\n",
    "        \n",
    "        self.players[self.playercount] = Player(self, self.playercount, name)\n",
    "        self.playercount +=1\n",
    "        \n",
    "        return 'Player created!'"
   ]
  },
  {
   "cell_type": "code",
   "execution_count": 3,
   "metadata": {},
   "outputs": [],
   "source": [
    "class Room():\n",
    "    \n",
    "    def __init__(self, world, seed):\n",
    "        \n",
    "        self.world = world\n",
    "        self.gold = seed % 8 + 2\n",
    "        self.monster = np.random.choice(world.monsters)\n",
    "        self.secret = None"
   ]
  },
  {
   "cell_type": "code",
   "execution_count": 4,
   "metadata": {},
   "outputs": [],
   "source": [
    "class Player():\n",
    "    \n",
    "    def __init__(self, world, number, name = 'player'):\n",
    "        \n",
    "        self.world = world\n",
    "        self.number = number\n",
    "        self.name = name\n",
    "        self.position = [world.size * (number % 2), world.size * (number // 2)]\n",
    "        \n",
    "    def move(self, d):\n",
    "        \n",
    "        if d in ('n', 's'):\n",
    "            \n",
    "            x = self.world.nsx[self.position[0] + (d == 's')][self.position[1]]\n",
    "        \n",
    "        else:\n",
    "            \n",
    "            x = self.world.ewx[self.position[0]][self.position[1] + (d == 'e')]\n",
    "            \n",
    "        if x >= 0:\n",
    "            \n",
    "            self.position = [self.position[0] - (d == 'n') + (d == 's'), self.position[1] + (d == 'e') - (d == 'w')]\n",
    "            \n",
    "            return f'You enter a room with a {game.rooms[self.position[0]][self.position[1]].monster}!'\n",
    "            \n",
    "        else:\n",
    "            \n",
    "            return 'You cannot move in that direction.'"
   ]
  },
  {
   "cell_type": "code",
   "execution_count": 5,
   "metadata": {},
   "outputs": [
    {
     "name": "stdout",
     "output_type": "stream",
     "text": [
      "[[ 25  39 109  76 120  86  21  91  88  64 111  73  59  19  22  10]\n",
      " [ 48  12 122  75 118  96  49  19  88  58  92  89  94  86  16  13]\n",
      " [ 17  30 111   0  77 108  90 118  54  94  56  66  99  95  30  20]\n",
      " [ 87  88  65 102  60  56  46  16   5  40  79  21  51 125  13  43]\n",
      " [ 18  14 117  16 119  51  71  90 115  36  25 125  64  72  95  27]\n",
      " [ 67 120   9  51   1 120  70  70   1  19  82  42  98  87  76 112]\n",
      " [  8  80  96  65  56  54  57  27 126  31  81  31  14   8  24  82]\n",
      " [  2 125  21 125  99  42  93 116  15  25  51  26  29  64 108  99]\n",
      " [ 17  54  46  78  41  77  66  22  73  75  19  99  40  86  66  77]\n",
      " [ 68  59 126  84  37  33  66   6 102  99  57  86  27 107  94   1]\n",
      " [ 22   6   0  23  80 113  48  34 122  99 101 112 115  71   3 106]\n",
      " [ 86  11  77  54  24   7   2  19  68  86  61 126 120  87  94 102]\n",
      " [125   5 111 102  19   6   7  45  32  48  80 123 100 109  17  67]\n",
      " [ 10  45  93  27  99  88  49  89   6   6  89  86  31  89  16  65]\n",
      " [ 24  54 120  17 124  79 120 111   5 106  92  98  19  48  56  38]\n",
      " [ 36 123  18  63  34 122  66  89  42  53 106  95  52  86  97  39]]\n",
      "[[-1 -1 -1 -1 -1 -1 -1 -1 -1 -1 -1 -1 -1 -1 -1 -1]\n",
      " [ 3  4  7  4  7  6  3  4  2  5  3  2  1  2  1  4]\n",
      " [ 3  5  3  3  2  5  2  6  4  7  6  5  3  6  2  3]\n",
      " [ 3  4  7  3  7  2  2  7  3  5  6  0  0  7  2  0]\n",
      " [ 5  4  7  3  4  2  1  0  3  5  1  5  5  2  4  5]\n",
      " [ 3  4  6  2  6  5  6  2  3  4  3  7  7  2  6  7]\n",
      " [ 6  5  2  6  2  0  1  2  6  7  6  6  3  5  5  2]\n",
      " [ 1  6  0  3  4  6  4  3  7  5  0  7  7  4  1  0]\n",
      " [ 0  3  1  2  2  5  5  5  3  5  7  5  7  4  2  4]\n",
      " [ 5  6  2  2  2  0  2  5  3  6  7  7  6  2  6  0]\n",
      " [ 7  1  6  4  4  4  2  6  2  7  0  2  4  4  0  2]\n",
      " [ 6  0  6  6  7  0  5  2  4  3  3  7  0  4  7  2]\n",
      " [ 7  3  1  7  4  4  7  6  0  6  7  3  5  2  7  5]\n",
      " [ 0  2  2  7  5  0  2  0  1  0  2  0  1  6  2  1]\n",
      " [ 0  3  2  7  1  1  6  2  3  0  6  0  4  2  1  3]\n",
      " [ 7  3  5  4  5  1  5  1  2  5  0  6  1  7  7  6]\n",
      " [-1 -1 -1 -1 -1 -1 -1 -1 -1 -1 -1 -1 -1 -1 -1 -1]]\n",
      "[[-1  6  6  2  4  2  5  7  7  3  6  2  6  7  4  4 -1]\n",
      " [-1  3  5  3  7  0  0  5  1  2  7  0  5  7  6  5 -1]\n",
      " [-1  1  5  1  7  7  2  4  6  6  1  1  1  1  6  6 -1]\n",
      " [-1  5  0  0  2  6  4  5  5  1  2  6  5  0  2  1 -1]\n",
      " [-1  6  4  5  4  3  0  7  2  5  1  7  7  6  0  7 -1]\n",
      " [-1  1  4  4  5  0  7  7  4  5  3  3  3  1  1  4 -1]\n",
      " [-1  7  6  7  7  5  5  2  0  0  6  1  0  1  0  1 -1]\n",
      " [-1  1  5  6  7  0  4  6  3  5  7  0  2  0  0  4 -1]\n",
      " [-1  0  4  0  2  2  2  4  1  6  3  7  4  6  7  3 -1]\n",
      " [-1  7  2  6  5  1  6  7  1  5  0  7  7  7  6  7 -1]\n",
      " [-1  7  1  4  7  1  5  3  4  7  2  3  3  0  2  2 -1]\n",
      " [-1  0  1  6  0  7  0  1  5  4  3  7  7  4  6  5 -1]\n",
      " [-1  0  3  6  2  7  5  4  0  1  6  3  4  1  7  0 -1]\n",
      " [-1  7  0  0  2  0  1  6  1  1  0  1  5  7  7  1 -1]\n",
      " [-1  3  4  5  1  4  0  5  3  6  2  7  0  2  7  2 -1]\n",
      " [-1  4  0  1  2  1  2  5  0  7  1  4  0  0  7  5 -1]]\n"
     ]
    }
   ],
   "source": [
    "game = World()\n",
    "print(game.randomgrid)\n",
    "print(game.nsx)\n",
    "print(game.ewx)"
   ]
  },
  {
   "cell_type": "code",
   "execution_count": 6,
   "metadata": {},
   "outputs": [
    {
     "name": "stdout",
     "output_type": "stream",
     "text": [
      "Skeleton 3\n",
      "Skeleton 2\n",
      "Beholder 3\n",
      "Fire Elemental 9\n",
      "Skeleton 4\n",
      "Beholder 5\n",
      "Beholder 9\n",
      "Beholder 6\n",
      "Beholder 8\n",
      "Imp 2\n",
      "Beholder 8\n",
      "Fire Elemental 2\n",
      "Beholder 7\n",
      "Beholder 4\n",
      "Imp 9\n",
      "Imp 3\n",
      "Skeleton 7\n",
      "Fire Elemental 3\n",
      "Imp 6\n",
      "Imp 5\n",
      "Imp 2\n",
      "Skeleton 8\n",
      "Skeleton 2\n",
      "Imp 5\n",
      "Imp 2\n",
      "Skeleton 8\n",
      "Imp 7\n",
      "Imp 6\n",
      "Beholder 9\n",
      "Skeleton 3\n",
      "Fire Elemental 8\n",
      "Beholder 2\n",
      "Skeleton 6\n",
      "Skeleton 2\n",
      "Fire Elemental 5\n",
      "Beholder 2\n"
     ]
    }
   ],
   "source": [
    "for a in range(6):\n",
    "    \n",
    "    for b in range(6):\n",
    "        \n",
    "        print(game.rooms[a][b].monster, game.rooms[a][b].gold)"
   ]
  },
  {
   "cell_type": "code",
   "execution_count": 7,
   "metadata": {},
   "outputs": [
    {
     "name": "stdout",
     "output_type": "stream",
     "text": [
      "Player created!\n",
      "Game is full\n"
     ]
    },
    {
     "data": {
      "text/plain": [
       "([0, 0], [16, 0], [0, 16], [16, 16])"
      ]
     },
     "execution_count": 7,
     "metadata": {},
     "output_type": "execute_result"
    }
   ],
   "source": [
    "print(game.add_player('Me'))\n",
    "game.add_player('Kodi')\n",
    "game.add_player('Sumeya')\n",
    "game.add_player('Nick')\n",
    "print(game.add_player('nope'))\n",
    "game.players[0].position, game.players[1].position, game.players[2].position, game.players[3].position"
   ]
  },
  {
   "cell_type": "code",
   "execution_count": 8,
   "metadata": {},
   "outputs": [
    {
     "name": "stdout",
     "output_type": "stream",
     "text": [
      "You enter a room with a Beholder!\n",
      "[1, 0]\n",
      "You cannot move in that direction.\n",
      "[1, 0]\n",
      "You enter a room with a Beholder!\n",
      "[1, 1]\n",
      "You enter a room with a Beholder!\n",
      "[1, 2]\n",
      "You enter a room with a Beholder!\n",
      "[0, 2]\n",
      "You cannot move in that direction.\n",
      "[0, 2]\n",
      "You enter a room with a Skeleton!\n",
      "[0, 1]\n"
     ]
    }
   ],
   "source": [
    "print(game.players[0].move('s'))\n",
    "print(game.players[0].position)\n",
    "print(game.players[0].move('w'))\n",
    "print(game.players[0].position)\n",
    "print(game.players[0].move('e'))\n",
    "print(game.players[0].position)\n",
    "print(game.players[0].move('e'))\n",
    "print(game.players[0].position)\n",
    "print(game.players[0].move('n'))\n",
    "print(game.players[0].position)\n",
    "print(game.players[0].move('n'))\n",
    "print(game.players[0].position)\n",
    "print(game.players[0].move('w'))\n",
    "print(game.players[0].position)"
   ]
  },
  {
   "cell_type": "code",
   "execution_count": null,
   "metadata": {},
   "outputs": [],
   "source": []
  }
 ],
 "metadata": {
  "kernelspec": {
   "display_name": "Python 3",
   "language": "python",
   "name": "python3"
  },
  "language_info": {
   "codemirror_mode": {
    "name": "ipython",
    "version": 3
   },
   "file_extension": ".py",
   "mimetype": "text/x-python",
   "name": "python",
   "nbconvert_exporter": "python",
   "pygments_lexer": "ipython3",
   "version": "3.7.4"
  }
 },
 "nbformat": 4,
 "nbformat_minor": 2
}
